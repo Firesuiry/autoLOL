{
 "cells": [
  {
   "cell_type": "code",
   "execution_count": 25,
   "metadata": {},
   "outputs": [
    {
     "name": "stdout",
     "output_type": "stream",
     "text": [
      "(1, 2)\n",
      "(2, 2)\n",
      "[[17 21]\n",
      " [29 29]]\n",
      "[[289 441]\n",
      " [841 841]]\n",
      "[ 730 1682]\n",
      "0\n"
     ]
    }
   ],
   "source": [
    "import numpy as np\n",
    "point = [5,6]\n",
    "pointList = [\n",
    "    [22,27],\n",
    "    [34,35]\n",
    "]\n",
    "point = np.array(point).reshape(1,2)\n",
    "pointList = np.array(pointList).reshape(-1,2)\n",
    "print(point.shape)\n",
    "print(pointList.shape)\n",
    "assert (point.shape == (1, 2))\n",
    "assert (pointList.shape[1] == 2)\n",
    "\n",
    "a = pointList - point\n",
    "print(a)\n",
    "a = a*a\n",
    "print(a)\n",
    "a = a[:,0] + a[:,1]\n",
    "print(a)\n",
    "a = np.argmin(a)\n",
    "print(a)\n",
    "\n"
   ]
  },
  {
   "cell_type": "code",
   "execution_count": null,
   "metadata": {},
   "outputs": [],
   "source": []
  },
  {
   "cell_type": "code",
   "execution_count": null,
   "metadata": {},
   "outputs": [],
   "source": []
  }
 ],
 "metadata": {
  "kernelspec": {
   "display_name": "Python 3",
   "language": "python",
   "name": "python3"
  },
  "language_info": {
   "codemirror_mode": {
    "name": "ipython",
    "version": 3
   },
   "file_extension": ".py",
   "mimetype": "text/x-python",
   "name": "python",
   "nbconvert_exporter": "python",
   "pygments_lexer": "ipython3",
   "version": "3.7.3"
  }
 },
 "nbformat": 4,
 "nbformat_minor": 2
}
