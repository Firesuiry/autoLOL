{
 "cells": [
  {
   "cell_type": "code",
   "execution_count": null,
   "metadata": {},
   "outputs": [],
   "source": [
    "# -*- coding: utf-8 -*-\n",
    "\n",
    "import cv2\n",
    "import numpy as np\n",
    "\n",
    "img1 = cv2.imread(\"a.jpg\")\n",
    "img2 = cv2.imread(\"b.jpg\")\n",
    "mymask = cv2.imread(\"mask.jpg\") # mask shape must = template\n",
    "\n",
    "#  mask only run in method = CV_TM_SQDIFF and CV_TM_CCORR_NORMED.\n",
    "me= eval('cv2.TM_CCORR_NORMED')\n",
    "\n",
    "res1 = cv2.matchTemplate(img1,img2,method= me, mask = mymask)\n",
    "res2 = cv2.matchTemplate(img1,img2,method= eval('cv2.TM_CCORR_NORMED'))\n",
    "\n",
    "min_val, max_val, min_loc, max_loc = cv2.minMaxLoc(res1)\n",
    "print max_val*100 # score 1 -> 62\n",
    "\n",
    "min_val, max_val, min_loc, max_loc = cv2.minMaxLoc(res2)\n",
    "print max_val*100 # score 2 -> 99 "
   ]
  }
 ],
 "metadata": {
  "kernelspec": {
   "display_name": "Python 3",
   "language": "python",
   "name": "python3"
  }
 },
 "nbformat": 4,
 "nbformat_minor": 2
}
