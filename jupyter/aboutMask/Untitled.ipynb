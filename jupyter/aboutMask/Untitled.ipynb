{
 "cells": [
  {
   "cell_type": "code",
   "execution_count": 1,
   "metadata": {},
   "outputs": [
    {
     "name": "stdout",
     "output_type": "stream",
     "text": [
      "99.83031749725342\n",
      "95.58632969856262\n"
     ]
    }
   ],
   "source": [
    "import cv2\n",
    "import numpy as np\n",
    "\n",
    "img1 = cv2.imread(\"a.jpg\")\n",
    "img2 = cv2.imread(\"b.jpg\")\n",
    "mymask = cv2.imread(\"mask.jpg\") # mask shape must = template\n",
    "\n",
    "#  mask only run in method = CV_TM_SQDIFF and CV_TM_CCORR_NORMED.\n",
    "me= eval('cv2.TM_CCORR_NORMED')\n",
    "\n",
    "res1 = cv2.matchTemplate(img1,img2,method= me, mask = mymask)\n",
    "res2 = cv2.matchTemplate(img1,img2,method= eval('cv2.TM_CCORR_NORMED'))\n",
    "\n",
    "min_val, max_val, min_loc, max_loc = cv2.minMaxLoc(res1)\n",
    "print(max_val*100) # score 1 -> 62\n",
    "\n",
    "min_val, max_val, min_loc, max_loc = cv2.minMaxLoc(res2)\n",
    "print(max_val*100) # score 2 -> 99 "
   ]
  },
  {
   "cell_type": "code",
   "execution_count": null,
   "metadata": {},
   "outputs": [],
   "source": []
  }
 ],
 "metadata": {
  "kernelspec": {
   "display_name": "Python 3",
   "language": "python",
   "name": "python3"
  },
  "language_info": {
   "codemirror_mode": {
    "name": "ipython",
    "version": 3
   },
   "file_extension": ".py",
   "mimetype": "text/x-python",
   "name": "python",
   "nbconvert_exporter": "python",
   "pygments_lexer": "ipython3",
   "version": "3.7.3"
  }
 },
 "nbformat": 4,
 "nbformat_minor": 2
}
