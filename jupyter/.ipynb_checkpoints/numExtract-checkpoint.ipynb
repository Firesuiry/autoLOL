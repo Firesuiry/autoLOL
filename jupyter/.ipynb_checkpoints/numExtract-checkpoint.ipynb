{
 "cells": [
  {
   "cell_type": "code",
   "execution_count": 1,
   "metadata": {},
   "outputs": [],
   "source": [
    "import numpy as np\n",
    "import cv2\n",
    "from skimage import morphology\n",
    "from sklearn.cluster import MeanShift\n",
    "import time\n",
    "from PIL import Image\n",
    "import matplotlib.pyplot as plt"
   ]
  },
  {
   "cell_type": "code",
   "execution_count": 2,
   "metadata": {},
   "outputs": [
    {
     "data": {
      "image/png": "[encoded data removed]",
      "text/plain": [
       "<Figure size 432x288 with 1 Axes>"
      ]
     },
     "metadata": {
      "needs_background": "light"
     },
     "output_type": "display_data"
    }
   ],
   "source": [
    "pic = cv2.imread(r'E:\\develop\\autoLOL\\ans\\HP1945.png')\n",
    "pic = cv2.cvtColor(pic, cv2.COLOR_BGR2GRAY)\n",
    "targetImg = cv2.imread('xie.png')\n",
    "targetImg = cv2.cvtColor(targetImg, cv2.COLOR_BGR2GRAY)\n",
    "global charList\n",
    "charList = []\n",
    "png58 = cv2.imread('shuzi//118.png')\n",
    "plt.figure('saveName')\n",
    "plt.imshow(pic)\n",
    "plt.show()"
   ]
  },
  {
   "cell_type": "code",
   "execution_count": 3,
   "metadata": {},
   "outputs": [],
   "source": [
    "def findPic(oriImg,targetImg,threshold = 0.8,delay = 0.5,test = False):\n",
    "\n",
    "    point = [0,0]\n",
    "    #screen = cv2.cvtColor(np.asarray(screen),cv2.COLOR_RGB2BGR)\n",
    "    #names = picName.split('&')\n",
    "    #for name in names:\n",
    "    \n",
    "    h, w = targetImg.shape[:2]# rows->h, cols->w\n",
    "    res = cv2.matchTemplate(oriImg, targetImg, cv2.TM_CCOEFF_NORMED)\n",
    "    min_val, max_val, min_loc, max_loc = cv2.minMaxLoc(res)\n",
    "    maxValue = np.max(res)\n",
    "    #print(maxValue)\n",
    "    if maxValue > threshold or True:\n",
    "        left_top = max_loc  # 左上角\n",
    "        right_bottom = (left_top[0] + w, left_top[1] + h)  # 右下角\n",
    "        if test:\n",
    "            #print(maxValue)\n",
    "            img = oriImg.copy()\n",
    "            cv2.rectangle(img, left_top, right_bottom, 255, 1)  # 画出矩形位置\n",
    "            cv2.imwrite('result.png',img)\n",
    "        \n",
    "        return [left_top,right_bottom]"
   ]
  },
  {
   "cell_type": "code",
   "execution_count": null,
   "metadata": {},
   "outputs": [],
   "source": []
  },
  {
   "cell_type": "code",
   "execution_count": 4,
   "metadata": {},
   "outputs": [],
   "source": [
    "LT,RB = findPic(pic,targetImg,test = True)"
   ]
  },
  {
   "cell_type": "code",
   "execution_count": 5,
   "metadata": {},
   "outputs": [],
   "source": [
    "def getCharImgs(pic,leftTop,rightBottom,add2List = False):\n",
    "    #将血条分为左右两侧\n",
    "    zuoPic = pic[:,0:leftTop[0]-1].copy()\n",
    "    youPic = pic[:,rightBottom[0] +1:].copy()\n",
    "    \n",
    "    #用于判断是否该像素列为空\n",
    "    zuoLieSum = np.sum(zuoPic,axis = 0)\n",
    "    youLieSum = np.sum(youPic,axis = 0)\n",
    "    \n",
    "    zuoLieSum = clearSmallConnectPoint(zuoLieSum)\n",
    "    youLieSum = clearSmallConnectPoint(youLieSum)\n",
    "    \n",
    "    #print(zuoPic.shape,zuoLieSum.shape)\n",
    "#     print(youLieSum)\n",
    "    plt.imshow(zuoPic)\n",
    "#     plt.show()\n",
    "    #开始处理右侧数字\n",
    "    blankLie = 0\n",
    "    index = 0\n",
    "    youCharImgs = []\n",
    "    charStart = -1\n",
    "    while(blankLie < 8 and index < len(youLieSum)):\n",
    "        isBlank = youLieSum[index]\n",
    "        #print(index,isBlank)\n",
    "        if isBlank == 0:\n",
    "            blankLie += 1\n",
    "            if charStart != -1:\n",
    "                charEnd = index\n",
    "                if charEnd - charStart < 6:\n",
    "                    charEnd = charStart + 6\n",
    "                youCharImgs.append(youPic[:,charStart:charEnd])\n",
    "                #print('char start and end:',charStart,charEnd)\n",
    "                charStart = -1\n",
    "        else:\n",
    "            if charStart == -1:\n",
    "                charStart = index\n",
    "                blankLie = 0\n",
    "        index += 1\n",
    "    \n",
    "    #print('开始处理左侧数字')\n",
    "    #开始处理左侧数字\n",
    "    blankLie = 0\n",
    "    index = len(zuoLieSum) - 1\n",
    "    zuoCharImgs = []\n",
    "    charEnd = -1 #因为是从右往左看,所以是以end为标志\n",
    "    while(blankLie < 8 and index > 0):\n",
    "        isBlank = zuoLieSum[index]\n",
    "        #print(index,isBlank)\n",
    "        if isBlank == 0:\n",
    "            blankLie += 1\n",
    "            if charEnd != -1:\n",
    "                charStart = index + 1\n",
    "                if charEnd - charStart < 6:\n",
    "                    charEnd = charStart + 6\n",
    "                zuoCharImgs.append(zuoPic[:,charStart:charEnd])\n",
    "                #print('char start and end:',charStart,charEnd)\n",
    "                charEnd = -1\n",
    "        else:\n",
    "            if charEnd == -1:\n",
    "                charEnd = index + 1\n",
    "                blankLie = 0\n",
    "        index -= 1\n",
    "                \n",
    "    for i in range(len(zuoCharImgs)):\n",
    "        cv2.imwrite(r'shuzi/result{}.png'.format(i),zuoCharImgs[i])\n",
    "        \n",
    "    for img in (zuoCharImgs+youCharImgs):\n",
    "        addCharToList(img)\n",
    "            \n",
    "        "
   ]
  },
  {
   "cell_type": "code",
   "execution_count": 6,
   "metadata": {},
   "outputs": [],
   "source": [
    "def clearSmallConnectPoint(sumList):\n",
    "    #清理在列和表中出现的一些字符间不正确链接\n",
    "    #思路是清理长段落都有值的 值为255的段落\n",
    "    connectList = np.array([])#检测每个列左侧有多少个已经非空白的列\n",
    "    sumList = np.array(sumList)\n",
    "    notBlankLie = 0\n",
    "    for i in range(len(sumList)):\n",
    "        connectList.append(notBlankLie)\n",
    "        if sumList[i] == 0:\n",
    "            notBlankLie = 0\n",
    "        else:\n",
    "            notBlankLie += 1\n",
    "    connectList = np.array([])\n",
    "    \n",
    "    assert(len(sumList) == len(connectList))\n",
    "    \n",
    "    clearBools = (connectList > 4 and sumList < 256)\n",
    "    sumList = sumList * clearBools\n",
    "    \n",
    "    return sumList\n",
    "        \n",
    "        \n"
   ]
  },
  {
   "cell_type": "code",
   "execution_count": 7,
   "metadata": {},
   "outputs": [],
   "source": [
    "def addCharToList(charIn):\n",
    "    if np.max(charIn) == 0:\n",
    "        return\n",
    "    for char in charList:\n",
    "        if charIn.shape != (11,6):\n",
    "            print(charIn.shape)\n",
    "            plt.imshow(charIn)\n",
    "            plt.show()\n",
    "            assert False\n",
    "        #assert not (charIn == png58).all()\n",
    "\n",
    "        if (charIn == char).all():\n",
    "            return\n",
    "    charList.append(charIn)\n",
    "    print(len(charList),'addChar')"
   ]
  },
  {
   "cell_type": "code",
   "execution_count": 8,
   "metadata": {},
   "outputs": [
    {
     "name": "stdout",
     "output_type": "stream",
     "text": [
      "当前i = 1\n"
     ]
    },
    {
     "ename": "AttributeError",
     "evalue": "'numpy.ndarray' object has no attribute 'append'",
     "output_type": "error",
     "traceback": [
      "\u001b[1;31m---------------------------------------------------------------------------\u001b[0m",
      "\u001b[1;31mAttributeError\u001b[0m                            Traceback (most recent call last)",
      "\u001b[1;32m<ipython-input-8-aa86e8721933>\u001b[0m in \u001b[0;36m<module>\u001b[1;34m\u001b[0m\n\u001b[0;32m      8\u001b[0m     \u001b[0mpic\u001b[0m \u001b[1;33m=\u001b[0m \u001b[0mcv2\u001b[0m\u001b[1;33m.\u001b[0m\u001b[0mcvtColor\u001b[0m\u001b[1;33m(\u001b[0m\u001b[0mpic\u001b[0m\u001b[1;33m,\u001b[0m \u001b[0mcv2\u001b[0m\u001b[1;33m.\u001b[0m\u001b[0mCOLOR_BGR2GRAY\u001b[0m\u001b[1;33m)\u001b[0m\u001b[1;33m\u001b[0m\u001b[1;33m\u001b[0m\u001b[0m\n\u001b[0;32m      9\u001b[0m     \u001b[0mLT\u001b[0m\u001b[1;33m,\u001b[0m\u001b[0mRB\u001b[0m \u001b[1;33m=\u001b[0m \u001b[0mfindPic\u001b[0m\u001b[1;33m(\u001b[0m\u001b[0mpic\u001b[0m\u001b[1;33m,\u001b[0m\u001b[0mtargetImg\u001b[0m\u001b[1;33m)\u001b[0m\u001b[1;33m\u001b[0m\u001b[1;33m\u001b[0m\u001b[0m\n\u001b[1;32m---> 10\u001b[1;33m     \u001b[0mgetCharImgs\u001b[0m\u001b[1;33m(\u001b[0m\u001b[0mpic\u001b[0m\u001b[1;33m,\u001b[0m\u001b[0mLT\u001b[0m\u001b[1;33m,\u001b[0m\u001b[0mRB\u001b[0m\u001b[1;33m,\u001b[0m\u001b[1;32mTrue\u001b[0m\u001b[1;33m)\u001b[0m\u001b[1;33m\u001b[0m\u001b[1;33m\u001b[0m\u001b[0m\n\u001b[0m\u001b[0;32m     11\u001b[0m     \u001b[0mi\u001b[0m \u001b[1;33m+=\u001b[0m \u001b[1;36m1\u001b[0m\u001b[1;33m\u001b[0m\u001b[1;33m\u001b[0m\u001b[0m\n\u001b[0;32m     12\u001b[0m     \u001b[1;31m#print(i,len(charList))\u001b[0m\u001b[1;33m\u001b[0m\u001b[1;33m\u001b[0m\u001b[1;33m\u001b[0m\u001b[0m\n",
      "\u001b[1;32m<ipython-input-5-8206fbc17bb5>\u001b[0m in \u001b[0;36mgetCharImgs\u001b[1;34m(pic, leftTop, rightBottom, add2List)\u001b[0m\n\u001b[0;32m      8\u001b[0m     \u001b[0myouLieSum\u001b[0m \u001b[1;33m=\u001b[0m \u001b[0mnp\u001b[0m\u001b[1;33m.\u001b[0m\u001b[0msum\u001b[0m\u001b[1;33m(\u001b[0m\u001b[0myouPic\u001b[0m\u001b[1;33m,\u001b[0m\u001b[0maxis\u001b[0m \u001b[1;33m=\u001b[0m \u001b[1;36m0\u001b[0m\u001b[1;33m)\u001b[0m\u001b[1;33m\u001b[0m\u001b[1;33m\u001b[0m\u001b[0m\n\u001b[0;32m      9\u001b[0m \u001b[1;33m\u001b[0m\u001b[0m\n\u001b[1;32m---> 10\u001b[1;33m     \u001b[0mzuoLieSum\u001b[0m \u001b[1;33m=\u001b[0m \u001b[0mclearSmallConnectPoint\u001b[0m\u001b[1;33m(\u001b[0m\u001b[0mzuoLieSum\u001b[0m\u001b[1;33m)\u001b[0m\u001b[1;33m\u001b[0m\u001b[1;33m\u001b[0m\u001b[0m\n\u001b[0m\u001b[0;32m     11\u001b[0m     \u001b[0myouLieSum\u001b[0m \u001b[1;33m=\u001b[0m \u001b[0mclearSmallConnectPoint\u001b[0m\u001b[1;33m(\u001b[0m\u001b[0myouLieSum\u001b[0m\u001b[1;33m)\u001b[0m\u001b[1;33m\u001b[0m\u001b[1;33m\u001b[0m\u001b[0m\n\u001b[0;32m     12\u001b[0m \u001b[1;33m\u001b[0m\u001b[0m\n",
      "\u001b[1;32m<ipython-input-6-4ed88fcb531f>\u001b[0m in \u001b[0;36mclearSmallConnectPoint\u001b[1;34m(sumList)\u001b[0m\n\u001b[0;32m      6\u001b[0m     \u001b[0mnotBlankLie\u001b[0m \u001b[1;33m=\u001b[0m \u001b[1;36m0\u001b[0m\u001b[1;33m\u001b[0m\u001b[1;33m\u001b[0m\u001b[0m\n\u001b[0;32m      7\u001b[0m     \u001b[1;32mfor\u001b[0m \u001b[0mi\u001b[0m \u001b[1;32min\u001b[0m \u001b[0mrange\u001b[0m\u001b[1;33m(\u001b[0m\u001b[0mlen\u001b[0m\u001b[1;33m(\u001b[0m\u001b[0msumList\u001b[0m\u001b[1;33m)\u001b[0m\u001b[1;33m)\u001b[0m\u001b[1;33m:\u001b[0m\u001b[1;33m\u001b[0m\u001b[1;33m\u001b[0m\u001b[0m\n\u001b[1;32m----> 8\u001b[1;33m         \u001b[0mconnectList\u001b[0m\u001b[1;33m.\u001b[0m\u001b[0mappend\u001b[0m\u001b[1;33m(\u001b[0m\u001b[0mnotBlankLie\u001b[0m\u001b[1;33m)\u001b[0m\u001b[1;33m\u001b[0m\u001b[1;33m\u001b[0m\u001b[0m\n\u001b[0m\u001b[0;32m      9\u001b[0m         \u001b[1;32mif\u001b[0m \u001b[0msumList\u001b[0m\u001b[1;33m[\u001b[0m\u001b[0mi\u001b[0m\u001b[1;33m]\u001b[0m \u001b[1;33m==\u001b[0m \u001b[1;36m0\u001b[0m\u001b[1;33m:\u001b[0m\u001b[1;33m\u001b[0m\u001b[1;33m\u001b[0m\u001b[0m\n\u001b[0;32m     10\u001b[0m             \u001b[0mnotBlankLie\u001b[0m \u001b[1;33m=\u001b[0m \u001b[1;36m0\u001b[0m\u001b[1;33m\u001b[0m\u001b[1;33m\u001b[0m\u001b[0m\n",
      "\u001b[1;31mAttributeError\u001b[0m: 'numpy.ndarray' object has no attribute 'append'"
     ]
    }
   ],
   "source": [
    "#getCharImgs(pic,LT,RB)\n",
    "i = 1\n",
    "while True:\n",
    "    pic = cv2.imread(r'E:\\develop\\autoLOL\\ans\\HP{}.png'.format(i))\n",
    "    if pic is None:\n",
    "        break\n",
    "    print('当前i = {}'.format(i))\n",
    "    pic = cv2.cvtColor(pic, cv2.COLOR_BGR2GRAY)\n",
    "    LT,RB = findPic(pic,targetImg)\n",
    "    getCharImgs(pic,LT,RB,True)\n",
    "    i += 1\n",
    "    #print(i,len(charList))"
   ]
  },
  {
   "cell_type": "code",
   "execution_count": null,
   "metadata": {},
   "outputs": [],
   "source": [
    "i = 0\n",
    "for char in charList:\n",
    "    cv2.imwrite('shuzi//{}.png'.format(i),char)\n",
    "    i += 1"
   ]
  },
  {
   "cell_type": "code",
   "execution_count": null,
   "metadata": {},
   "outputs": [],
   "source": []
  },
  {
   "cell_type": "code",
   "execution_count": null,
   "metadata": {},
   "outputs": [],
   "source": []
  },
  {
   "cell_type": "code",
   "execution_count": null,
   "metadata": {},
   "outputs": [],
   "source": []
  },
  {
   "cell_type": "code",
   "execution_count": null,
   "metadata": {},
   "outputs": [],
   "source": []
  },
  {
   "cell_type": "code",
   "execution_count": null,
   "metadata": {},
   "outputs": [],
   "source": []
  },
  {
   "cell_type": "code",
   "execution_count": null,
   "metadata": {},
   "outputs": [],
   "source": []
  },
  {
   "cell_type": "code",
   "execution_count": null,
   "metadata": {},
   "outputs": [],
   "source": []
  }
 ],
 "metadata": {
  "kernelspec": {
   "display_name": "Python 3",
   "language": "python",
   "name": "python3"
  },
  "language_info": {
   "codemirror_mode": {
    "name": "ipython",
    "version": 3
   },
   "file_extension": ".py",
   "mimetype": "text/x-python",
   "name": "python",
   "nbconvert_exporter": "python",
   "pygments_lexer": "ipython3",
   "version": "3.7.3"
  }
 },
 "nbformat": 4,
 "nbformat_minor": 2
}
